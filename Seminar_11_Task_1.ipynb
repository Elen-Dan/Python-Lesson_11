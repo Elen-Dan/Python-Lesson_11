{
  "nbformat": 4,
  "nbformat_minor": 0,
  "metadata": {
    "colab": {
      "provenance": []
    },
    "kernelspec": {
      "name": "python3",
      "display_name": "Python 3"
    },
    "language_info": {
      "name": "python"
    }
  },
  "cells": [
    {
      "cell_type": "code",
      "source": [
        "import sympy as sp\n",
        "from sympy.plotting import plot\n",
        "sp.init_printing()"
      ],
      "metadata": {
        "id": "97xBRx2SK-LQ"
      },
      "execution_count": 19,
      "outputs": []
    },
    {
      "cell_type": "code",
      "source": [
        "x= sp.Symbol('x')\n",
        "f = -12*x**4*sp.sin(sp.cos(x)) - 18*x**3+5*x**2 + 10*x - 30\n",
        "#пусть будет такой интервал:\n",
        "domain = (-20,20)"
      ],
      "metadata": {
        "id": "YFVuM_AqLDt3"
      },
      "execution_count": 20,
      "outputs": []
    },
    {
      "cell_type": "code",
      "source": [
        "#Построить график\n",
        "plot(f, (x, domain[0], domain[1]), title='f(x) = -12x^4*sin(cos(x)) - 18x^3+5x^2 + 10x - 30.')"
      ],
      "metadata": {
        "colab": {
          "base_uri": "https://localhost:8080/",
          "height": 314
        },
        "id": "-q-5J-HGLHK2",
        "outputId": "0741f019-0e15-4a2b-dd20-6cb80f92482d"
      },
      "execution_count": 21,
      "outputs": [
        {
          "output_type": "display_data",
          "data": {
            "text/plain": [
              "<Figure size 432x288 with 1 Axes>"
            ],
            "image/png": "[encoded data removed]"
          },
          "metadata": {
            "needs_background": "light"
          }
        },
        {
          "output_type": "execute_result",
          "data": {
            "text/plain": [
              "<sympy.plotting.plot.Plot at 0x7f2351af9970>"
            ]
          },
          "metadata": {},
          "execution_count": 21
        }
      ]
    },
    {
      "cell_type": "code",
      "source": [
        "#Определить корни\n",
        "solutions = []\n",
        "for i in range(domain[0],domain[1]): \n",
        "    try:\n",
        "        solution = sp.nsolve(f,x,i)     \n",
        "        if solution not in solutions:\n",
        "            solutions.append(solution)      \n",
        "    except:\n",
        "        pass\n",
        "solutions.sort()\n",
        "#проверка выхода за границы интервала\n",
        "if solutions[0] < domain[0]:\n",
        "    solutions.pop(0)\n",
        "if solutions[-1] > domain[1]:\n",
        "    solutions.pop(-1)\n",
        "print(f\"Решение уравнения на интервале {domain}: {solutions}\")"
      ],
      "metadata": {
        "colab": {
          "base_uri": "https://localhost:8080/"
        },
        "id": "S0-z4_bjLY3j",
        "outputId": "71281528-76e5-4e95-edc0-98e46da5f1c3"
      },
      "execution_count": 22,
      "outputs": [
        {
          "output_type": "stream",
          "name": "stdout",
          "text": [
            "Решение уравнения на интервале (-20, 20): [-17.3665525069077, -14.0280559916623, -11.1337690610358, -7.65062228513275, -5.02686592820621, -1.33896663927711, 2.27305684575625, 4.38352369796896, 8.03516413341352, 10.8606499895942, 14.2405848102516, 17.1928480700451]\n"
          ]
        }
      ]
    },
    {
      "cell_type": "code",
      "source": [
        "#Вычислить вершину\n",
        "f1 = sp.diff(f,x)\n",
        "print(f\"Первая производная: {f1}\")\n",
        "solutions_f1 = []\n",
        "for i in range(domain[0],domain[1]):\n",
        "    try:\n",
        "        solution = sp.nsolve(f1,x,i)\n",
        "        if solution not in solutions_f1:\n",
        "            solutions_f1.append(solution)      \n",
        "    except:\n",
        "        pass\n",
        "solutions_f1.sort()\n",
        "print(f\"Вершины функции (экстремумы функции) на интервале {domain}: {solutions_f1}\")\n",
        "#Добавляем начало и конец интевала в список решений\n",
        "solutions_f1.insert(0,domain[0])\n",
        "solutions_f1.append(domain[1])"
      ],
      "metadata": {
        "colab": {
          "base_uri": "https://localhost:8080/"
        },
        "id": "ZhRtU1tALuv4",
        "outputId": "fc2df275-9a43-4c9e-c493-bfda690ea3ce"
      },
      "execution_count": 23,
      "outputs": [
        {
          "output_type": "stream",
          "name": "stdout",
          "text": [
            "Первая производная: 12*x**4*sin(x)*cos(cos(x)) - 48*x**3*sin(cos(x)) - 54*x**2 + 10*x + 10\n",
            "Вершины функции (экстремумы функции) на интервале (-20, 20): [-19.1307079119221, -16.0805175716342, -12.9438052089824, -9.97895376101509, -6.83137004000085, -4.16778352385048, -0.392677179932750, 0.454573568108782, 1.70060727795121, 3.81931083338228, 7.00103165854095, 9.87714905397232, 13.0123448285001, 16.0314567099602, 19.1674784504931]\n"
          ]
        }
      ]
    },
    {
      "cell_type": "code",
      "source": [
        "#Интервалы возрастания\n",
        "func_increasing = []\n",
        "for i in range(len(solutions_f1)-1):\n",
        "    if (f1.subs(x,((solutions_f1[i+1] + solutions_f1[i])/2))) > 0:\n",
        "        func_increasing.append((solutions_f1[i],solutions_f1[i+1]))\n",
        "\n",
        "print(f\"В диапазоне {domain} Интервалы возрастания функции: {func_increasing} \")"
      ],
      "metadata": {
        "colab": {
          "base_uri": "https://localhost:8080/"
        },
        "id": "zbyP4EXjL9Cl",
        "outputId": "96a5e749-6882-4c3a-eb41-b10446f53ce4"
      },
      "execution_count": 24,
      "outputs": [
        {
          "output_type": "stream",
          "name": "stdout",
          "text": [
            "В диапазоне (-20, 20) Интервалы возрастания функции: [(-19.1307079119221, -16.0805175716342), (-12.9438052089824, -9.97895376101509), (-6.83137004000085, -4.16778352385048), (-0.392677179932750, 0.454573568108782), (1.70060727795121, 3.81931083338228), (7.00103165854095, 9.87714905397232), (13.0123448285001, 16.0314567099602), (19.1674784504931, 20)] \n"
          ]
        }
      ]
    },
    {
      "cell_type": "code",
      "source": [
        "#Интервалы убывания\n",
        "func_decreasing = []\n",
        "for i in range(len(solutions_f1)-1):\n",
        "    if (f1.subs(x,((solutions_f1[i+1] + solutions_f1[i])/2))) < 0:\n",
        "        func_decreasing.append((solutions_f1[i],solutions_f1[i+1]))\n",
        "\n",
        "print(f\"В диапазоне {domain} интервалы убывания функции: {func_decreasing} \")"
      ],
      "metadata": {
        "colab": {
          "base_uri": "https://localhost:8080/"
        },
        "id": "kiXXINVIMC3r",
        "outputId": "c3b58671-9b2e-43e8-f979-a36e0b440e0c"
      },
      "execution_count": 25,
      "outputs": [
        {
          "output_type": "stream",
          "name": "stdout",
          "text": [
            "В диапазоне (-20, 20) интервалы убывания функции: [(-20, -19.1307079119221), (-16.0805175716342, -12.9438052089824), (-9.97895376101509, -6.83137004000085), (-4.16778352385048, -0.392677179932750), (0.454573568108782, 1.70060727795121), (3.81931083338228, 7.00103165854095), (9.87714905397232, 13.0123448285001), (16.0314567099602, 19.1674784504931)] \n"
          ]
        }
      ]
    },
    {
      "cell_type": "code",
      "source": [
        "#Определить промежутки, на котором f > 0\n",
        "iter_value = solutions\n",
        "if iter_value[0] > domain[0]:\n",
        "    iter_value.insert(0,domain[0])\n",
        "if iter_value[-1] < domain[1]:\n",
        "    iter_value.append(domain[1])\n",
        "upper_interval = []\n",
        "\n",
        "for i in range(len(iter_value)-1):\n",
        "    if (f.subs(x,((iter_value[i+1] + iter_value[i])/2))) > 0:\n",
        "        upper_interval.append((iter_value[i],iter_value[i+1]))\n",
        "\n",
        "print(f\"В диапазоне {domain} интервалы, в которых функция принимает положительные значения: {upper_interval} \")"
      ],
      "metadata": {
        "colab": {
          "base_uri": "https://localhost:8080/"
        },
        "id": "Cfe4q--EMLfh",
        "outputId": "dd9d30cc-509b-44f7-b1a1-2adab53f2eec"
      },
      "execution_count": 26,
      "outputs": [
        {
          "output_type": "stream",
          "name": "stdout",
          "text": [
            "В диапазоне (-20, 20) интервалы, в которых функция принимает положительные значения: [(-17.3665525069077, -14.0280559916623), (-11.1337690610358, -7.65062228513275), (-5.02686592820621, -1.33896663927711), (2.27305684575625, 4.38352369796896), (8.03516413341352, 10.8606499895942), (14.2405848102516, 17.1928480700451)] \n"
          ]
        }
      ]
    },
    {
      "cell_type": "code",
      "source": [
        "#Определить промежутки, на котором f < 0\n",
        "lower_interval = []\n",
        "for i in range(len(iter_value)-1):\n",
        "    if (f.subs(x,((iter_value[i+1] + iter_value[i])/2))) < 0:\n",
        "        lower_interval.append((iter_value[i],iter_value[i+1]))\n",
        "\n",
        "print(f\"В диапазоне {domain} интервалы, в которых функция принимает отрицательные значения: {lower_interval} \")"
      ],
      "metadata": {
        "colab": {
          "base_uri": "https://localhost:8080/"
        },
        "id": "Fv2WtWZBMPQk",
        "outputId": "e3eefa63-fb66-4e11-a21a-14158347ed4a"
      },
      "execution_count": 27,
      "outputs": [
        {
          "output_type": "stream",
          "name": "stdout",
          "text": [
            "В диапазоне (-20, 20) интервалы, в которых функция принимает отрицательные значения: [(-20, -17.3665525069077), (-14.0280559916623, -11.1337690610358), (-7.65062228513275, -5.02686592820621), (-1.33896663927711, 2.27305684575625), (4.38352369796896, 8.03516413341352), (10.8606499895942, 14.2405848102516), (17.1928480700451, 20)] \n"
          ]
        }
      ]
    }
  ]
}